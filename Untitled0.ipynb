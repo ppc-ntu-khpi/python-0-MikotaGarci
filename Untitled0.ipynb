{
  "nbformat": 4,
  "nbformat_minor": 0,
  "metadata": {
    "colab": {
      "provenance": []
    },
    "kernelspec": {
      "name": "python3",
      "display_name": "Python 3"
    },
    "language_info": {
      "name": "python"
    }
  },
  "cells": [
    {
      "cell_type": "code",
      "execution_count": 1,
      "metadata": {
        "colab": {
          "base_uri": "https://localhost:8080/"
        },
        "id": "U_9TYUkkxQQe",
        "outputId": "22c329c3-d8f0-47d2-f130-d0d4b6bd2e74"
      },
      "outputs": [
        {
          "output_type": "stream",
          "name": "stdout",
          "text": [
            "Введіть перше число: 5\n",
            "Введіть друге число: 7\n",
            "Сума чисел: 12\n",
            "Різниця чисел: -2\n",
            "Добуток чисел: 35\n",
            "Частка чисел: 0.7142857142857143\n"
          ]
        }
      ],
      "source": [
        "first_number = int(input('Введіть перше число: '))\n",
        "second_number = int(input('Введіть друге число: '))\n",
        "\n",
        "сума = first_number + second_number\n",
        "різниця = first_number - second_number\n",
        "добуток = first_number * second_number\n",
        "\n",
        "# Додаємо перевірку на друге число, щоб уникнути ділення на нуль\n",
        "if second_number != 0:\n",
        "    частка = first_number / second_number\n",
        "else:\n",
        "    частка = \"Ділення на нуль неможливе\"\n",
        "\n",
        "print(\"Сума чисел:\", сума)\n",
        "print(\"Різниця чисел:\", різниця)\n",
        "print(\"Добуток чисел:\", добуток)\n",
        "print(\"Частка чисел:\", частка)\n"
      ]
    },
    {
      "cell_type": "code",
      "source": [
        "distKm = 305.3\n",
        "distMiles = round(distKm / 1.60934, 1)\n",
        "print(\"Відстань між Києвом та Полтавою\", distMiles)\n"
      ],
      "metadata": {
        "colab": {
          "base_uri": "https://localhost:8080/"
        },
        "id": "VluTUjkhxpkp",
        "outputId": "1097fe76-5cb0-4d50-a00b-e28d5d30632d"
      },
      "execution_count": 4,
      "outputs": [
        {
          "output_type": "stream",
          "name": "stdout",
          "text": [
            "Відстань між Києвом та Полтавою 189.7\n"
          ]
        }
      ]
    },
    {
      "cell_type": "code",
      "source": [
        "import math\n",
        "\n",
        "# Введіть радіус сфери або кулі\n",
        "r = float(input('Введіть радіус сфери або кулі: '))\n",
        "\n",
        "# Обчисліть площу поверхні сфери\n",
        "A = 4 * math.pi * r**2\n",
        "\n",
        "# Обчисліть об'єм кулі\n",
        "V = (4/3) * math.pi * r**3\n",
        "\n",
        "# Виведіть результат\n",
        "print(f'Площа поверхні сфери: {A}')\n",
        "print(f'Об\\'єм кулі: {V}')\n"
      ],
      "metadata": {
        "colab": {
          "base_uri": "https://localhost:8080/"
        },
        "id": "Qhhwu4d3x6Sv",
        "outputId": "84f6ab79-6672-4191-c410-c3abf8fbfe2c"
      },
      "execution_count": 6,
      "outputs": [
        {
          "output_type": "stream",
          "name": "stdout",
          "text": [
            "Введіть радіус сфери або кулі: 3\n",
            "Площа поверхні сфери: 113.09733552923255\n",
            "Об'єм кулі: 113.09733552923254\n"
          ]
        }
      ]
    },
    {
      "cell_type": "code",
      "source": [
        "# Введіть температуру за Фаренгейтом\n",
        "F = float(input('Введіть температуру за Фаренгейтом: '))\n",
        "\n",
        "# Переведіть температуру в градуси Цельсія\n",
        "C = (5/9) * (F - 32)\n",
        "\n",
        "# Виведіть результат\n",
        "print(f'Температура в градусах Цельсія: {C:.1f} °C')\n",
        "\n",
        "# Тепер введемо температуру в градусах Цельсія\n",
        "C = float(input('Введіть температуру в градусах Цельсія: '))\n",
        "\n",
        "# Переведемо температуру в градуси Фаренгейта\n",
        "F = (9/5) * C + 32\n",
        "\n",
        "# Виведіть результат\n",
        "print(f'Температура в градусах Фаренгейта: {F:.1f} °F')\n"
      ],
      "metadata": {
        "colab": {
          "base_uri": "https://localhost:8080/"
        },
        "id": "lUpvSW5gy20q",
        "outputId": "e34a9749-588f-4f45-9726-ab653e9c789c"
      },
      "execution_count": 7,
      "outputs": [
        {
          "output_type": "stream",
          "name": "stdout",
          "text": [
            "Введіть температуру за Фаренгейтом: 5\n",
            "Температура в градусах Цельсія: -15.0 °C\n",
            "Введіть температуру в градусах Цельсія: 9\n",
            "Температура в градусах Фаренгейта: 48.2 °F\n"
          ]
        }
      ]
    }
  ]
}